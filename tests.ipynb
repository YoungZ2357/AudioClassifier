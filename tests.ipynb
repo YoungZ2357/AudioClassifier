{
 "cells": [
  {
   "cell_type": "code",
   "id": "initial_id",
   "metadata": {
    "collapsed": true
   },
   "source": [
    "\n",
    "root_dir = r\"data\"\n",
    "wav_file = r\"data/1-137-A-32.wav\"\n",
    "\n"
   ],
   "outputs": [],
   "execution_count": null
  },
  {
   "metadata": {},
   "cell_type": "code",
   "source": [
    "# tests for get_desired_length, pad_wav\n",
    "import torchaudio\n",
    "from preprocess import *\n",
    "\n",
    "w, s = torchaudio.load(wav_file)\n",
    "l = get_desired_length(root_dir)\n",
    "\n",
    "w = pad_wav(w, l)\n",
    "print(w.shape)"
   ],
   "id": "9ac4e167bc435faa",
   "outputs": [],
   "execution_count": null
  },
  {
   "metadata": {},
   "cell_type": "code",
   "source": [
    "# tests for to_melspec\n",
    "import matplotlib.pyplot as plt\n",
    "%matplotlib inline\n",
    "\n",
    "mel_spec = to_melspec(wav=w, sample_rate=s, log_transform=True, n_mels=64)\n",
    "plt.imshow(mel_spec[0].detach().numpy(), cmap=\"viridis\")\n",
    "plt.colorbar(format=\"%+2.0f dB\")\n",
    "plt.show()\n",
    "print(mel_spec.shape)\n"
   ],
   "id": "686f16ca66841052",
   "outputs": [],
   "execution_count": null
  },
  {
   "metadata": {},
   "cell_type": "code",
   "source": "",
   "id": "8d2d11db7532bde1",
   "outputs": [],
   "execution_count": null
  },
  {
   "metadata": {
    "ExecuteTime": {
     "end_time": "2024-06-18T13:32:11.061897Z",
     "start_time": "2024-06-18T13:32:10.437642Z"
    }
   },
   "cell_type": "code",
   "source": [
    "# tests for ResNetGRU\n",
    "\n",
    "from network import *\n",
    "batch_size = 8\n",
    "mel_spec_channels = 1\n",
    "mel_spec_height = 64\n",
    "mel_spec_width = 64\n",
    "audio_tensor_length = 100\n",
    "\n",
    "mel_spec = torch.randn(batch_size, mel_spec_channels, mel_spec_height, mel_spec_width)\n",
    "audio_tensor = torch.randn(batch_size, audio_tensor_length, 1)\n",
    "\n",
    "resnet_layers = [3, 4, 6, 3]  \n",
    "res_block_expansion = 2  \n",
    "rnn_hidden = 64 \n",
    "tmp_size = 256 \n",
    "n_classes = 10  \n",
    "\n",
    "model = ResnetGRUNet(resnet_layers, res_block_expansion, rnn_hidden, tmp_size, n_classes)\n",
    "output = model(mel_spec, audio_tensor)\n",
    "print(\"Output shape:\", output.shape)"
   ],
   "id": "e36190e25d578e82",
   "outputs": [
    {
     "name": "stdout",
     "output_type": "stream",
     "text": [
      "Output shape: torch.Size([8, 10])\n"
     ]
    }
   ],
   "execution_count": 3
  },
  {
   "metadata": {},
   "cell_type": "code",
   "source": "",
   "id": "7f9f878ab3fee208",
   "outputs": [],
   "execution_count": null
  }
 ],
 "metadata": {
  "kernelspec": {
   "display_name": "Python 3",
   "language": "python",
   "name": "python3"
  },
  "language_info": {
   "codemirror_mode": {
    "name": "ipython",
    "version": 2
   },
   "file_extension": ".py",
   "mimetype": "text/x-python",
   "name": "python",
   "nbconvert_exporter": "python",
   "pygments_lexer": "ipython2",
   "version": "2.7.6"
  }
 },
 "nbformat": 4,
 "nbformat_minor": 5
}
